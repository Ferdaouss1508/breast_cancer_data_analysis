{
 "cells": [
  {
   "cell_type": "code",
   "execution_count": 1,
   "id": "4397b5ea-1e4b-4292-bdca-e5c84d733d45",
   "metadata": {},
   "outputs": [
    {
     "name": "stdout",
     "output_type": "stream",
     "text": [
      "succes! I'm inside my notebook!\n"
     ]
    }
   ],
   "source": [
    "print(\"succes! I'm inside my notebook!\")"
   ]
  },
  {
   "cell_type": "code",
   "execution_count": null,
   "id": "730a81da-ccab-40b6-9174-d34f31fc2e09",
   "metadata": {},
   "outputs": [],
   "source": []
  }
 ],
 "metadata": {
  "kernelspec": {
   "display_name": "Python [conda env:base] *",
   "language": "python",
   "name": "conda-base-py"
  },
  "language_info": {
   "codemirror_mode": {
    "name": "ipython",
    "version": 3
   },
   "file_extension": ".py",
   "mimetype": "text/x-python",
   "name": "python",
   "nbconvert_exporter": "python",
   "pygments_lexer": "ipython3",
   "version": "3.12.7"
  }
 },
 "nbformat": 4,
 "nbformat_minor": 5
}
